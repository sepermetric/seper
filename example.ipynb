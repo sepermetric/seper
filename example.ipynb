{
 "cells": [
  {
   "cell_type": "code",
   "execution_count": 1,
   "metadata": {},
   "outputs": [],
   "source": [
    "import torch\n",
    "from seper.calculate import gen_answers_batch, calculate_uncertainty_soft_batch, create_collate_fn\n",
    "from seper.models.huggingface_models import HuggingfaceModel\n",
    "from seper.uncertainty_measures.semantic_entropy import EntailmentDeberta\n",
    "from seper.calculate import process_item_for_seper"
   ]
  },
  {
   "cell_type": "markdown",
   "metadata": {},
   "source": [
    "#### Load Model\n",
    "Load the generation model and entailment judge model."
   ]
  },
  {
   "cell_type": "code",
   "execution_count": 2,
   "metadata": {},
   "outputs": [
    {
     "data": {
      "application/vnd.jupyter.widget-view+json": {
       "model_id": "17047196d7ba4acba4a2780a3dc2fbb1",
       "version_major": 2,
       "version_minor": 0
      },
      "text/plain": [
       "Loading checkpoint shards:   0%|          | 0/3 [00:00<?, ?it/s]"
      ]
     },
     "metadata": {},
     "output_type": "display_data"
    },
    {
     "name": "stderr",
     "output_type": "stream",
     "text": [
      "/home/dailu/anaconda3/envs/ambigqa/lib/python3.9/site-packages/huggingface_hub/file_download.py:1150: FutureWarning: `resume_download` is deprecated and will be removed in version 1.0.0. Downloads always resume when possible. If you want to force a new download, use `force_download=True`.\n",
      "  warnings.warn(\n"
     ]
    },
    {
     "data": {
      "text/plain": [
       "DebertaV2ForSequenceClassification(\n",
       "  (deberta): DebertaV2Model(\n",
       "    (embeddings): DebertaV2Embeddings(\n",
       "      (word_embeddings): Embedding(128100, 1536, padding_idx=0)\n",
       "      (LayerNorm): LayerNorm((1536,), eps=1e-07, elementwise_affine=True)\n",
       "      (dropout): StableDropout()\n",
       "    )\n",
       "    (encoder): DebertaV2Encoder(\n",
       "      (layer): ModuleList(\n",
       "        (0-23): 24 x DebertaV2Layer(\n",
       "          (attention): DebertaV2Attention(\n",
       "            (self): DisentangledSelfAttention(\n",
       "              (query_proj): Linear(in_features=1536, out_features=1536, bias=True)\n",
       "              (key_proj): Linear(in_features=1536, out_features=1536, bias=True)\n",
       "              (value_proj): Linear(in_features=1536, out_features=1536, bias=True)\n",
       "              (pos_dropout): StableDropout()\n",
       "              (dropout): StableDropout()\n",
       "            )\n",
       "            (output): DebertaV2SelfOutput(\n",
       "              (dense): Linear(in_features=1536, out_features=1536, bias=True)\n",
       "              (LayerNorm): LayerNorm((1536,), eps=1e-07, elementwise_affine=True)\n",
       "              (dropout): StableDropout()\n",
       "            )\n",
       "          )\n",
       "          (intermediate): DebertaV2Intermediate(\n",
       "            (dense): Linear(in_features=1536, out_features=6144, bias=True)\n",
       "            (intermediate_act_fn): GELUActivation()\n",
       "          )\n",
       "          (output): DebertaV2Output(\n",
       "            (dense): Linear(in_features=6144, out_features=1536, bias=True)\n",
       "            (LayerNorm): LayerNorm((1536,), eps=1e-07, elementwise_affine=True)\n",
       "            (dropout): StableDropout()\n",
       "          )\n",
       "        )\n",
       "      )\n",
       "      (rel_embeddings): Embedding(512, 1536)\n",
       "      (LayerNorm): LayerNorm((1536,), eps=1e-07, elementwise_affine=True)\n",
       "      (conv): ConvLayer(\n",
       "        (conv): Conv1d(1536, 1536, kernel_size=(3,), stride=(1,), padding=(1,))\n",
       "        (LayerNorm): LayerNorm((1536,), eps=1e-07, elementwise_affine=True)\n",
       "        (dropout): StableDropout()\n",
       "      )\n",
       "    )\n",
       "  )\n",
       "  (pooler): ContextPooler(\n",
       "    (dense): Linear(in_features=1536, out_features=1536, bias=True)\n",
       "    (dropout): StableDropout()\n",
       "  )\n",
       "  (classifier): Linear(in_features=1536, out_features=3, bias=True)\n",
       "  (dropout): StableDropout()\n",
       ")"
      ]
     },
     "execution_count": 2,
     "metadata": {},
     "output_type": "execute_result"
    }
   ],
   "source": [
    "model_path = '/data/dailu/llama-2-7b-chat-hf'\n",
    "num_generations = 10 # 10 is good for most cases\n",
    "sub_batch_size = 10\n",
    "temperature = 1.0\n",
    "max_new_tokens = 128\n",
    "max_context_words = 4096\n",
    "computation_chunk_size = 8 # adjust to balance speeds and gpu memory cost\n",
    "prompt_type = 'default'\n",
    "device = 'cuda:1'\n",
    "\n",
    "# Build generator\n",
    "generator = HuggingfaceModel(\n",
    "    model_path,\n",
    "    stop_sequences='default',\n",
    "    max_new_tokens=max_new_tokens,\n",
    "    torch_dtype=torch.float16,\n",
    "    attn_implementation=\"flash_attention_2\",\n",
    "    device=device,\n",
    ")\n",
    "generator.model.eval()\n",
    "\n",
    "# Build entailment model\n",
    "entailment_model = EntailmentDeberta(device=device)\n",
    "entailment_model.model.eval()"
   ]
  },
  {
   "cell_type": "markdown",
   "metadata": {},
   "source": [
    "#### Step 1: Sampling\n",
    "Generate for `num_generations` times and collect the results and probabilities."
   ]
  },
  {
   "cell_type": "code",
   "execution_count": 3,
   "metadata": {},
   "outputs": [],
   "source": [
    "example={\n",
    "    'question': 'Is Elon Musk older than Sam Altman?',\n",
    "    'context': 'Elon Musk was born on June 28, 1971. Sam Altman was born on April 22, 1985.',\n",
    "    'answers': ['Yes'], # this is the provided ground-truth answers\n",
    "}\n",
    "result = gen_answers_batch(example, \n",
    "                           generator, \n",
    "                           temperature, \n",
    "                           num_generations, \n",
    "                           sub_batch_size, \n",
    "                           max_new_tokens, \n",
    "                           prompt_type, \n",
    "                           device,\n",
    "                           max_context_words)\n",
    "\n",
    "# Baseline example with empty context\n",
    "example_baseline = example.copy()\n",
    "example_baseline['context'] = ''\n",
    "\n",
    "result_baseline = gen_answers_batch(\n",
    "    example_baseline,\n",
    "    generator,\n",
    "    temperature,\n",
    "    num_generations,\n",
    "    sub_batch_size,\n",
    "    max_new_tokens,\n",
    "    prompt_type,\n",
    "    device,\n",
    "    max_context_words\n",
    ")"
   ]
  },
  {
   "cell_type": "code",
   "execution_count": 4,
   "metadata": {},
   "outputs": [
    {
     "data": {
      "text/plain": [
       "{'question': 'Is Elon Musk older than Sam Altman?',\n",
       " 'context': 'Elon Musk was born on June 28, 1971. Sam Altman was born on April 22, 1985.',\n",
       " 'answers': ['Yes'],\n",
       " 'responses': [('Yes.', [-0.011683372780680656, -0.22827866673469543]),\n",
       "  ('Yes', [-0.011683372780680656]),\n",
       "  ('Yes.', [-0.011683372780680656, -0.22827866673469543]),\n",
       "  ('Yes.', [-0.011683372780680656, -0.22827866673469543]),\n",
       "  ('Yes.', [-0.011683372780680656, -0.22827866673469543]),\n",
       "  ('Yes.', [-0.011683372780680656, -0.22827866673469543]),\n",
       "  ('Yes', [-0.011683372780680656]),\n",
       "  ('Yes.', [-0.011683372780680656, -0.22827866673469543]),\n",
       "  ('Yes. Elon Musk is 9 years older than Sam Altman.',\n",
       "   [-0.011683372780680656,\n",
       "    -0.22827866673469543,\n",
       "    -1.8856996297836304,\n",
       "    -1.0728830375228426e-06,\n",
       "    -1.9192511899746023e-05,\n",
       "    -3.814689989667386e-06,\n",
       "    -0.4233023524284363,\n",
       "    -0.9172983169555664,\n",
       "    -0.06922823935747147,\n",
       "    -0.00011383838864276186,\n",
       "    -0.0002047805901383981,\n",
       "    -1.2040065485052764e-05,\n",
       "    -4.0531076592742465e-06,\n",
       "    -5.364274329622276e-05,\n",
       "    -3.814689989667386e-06,\n",
       "    -0.024501953274011612]),\n",
       "  ('Yes', [-0.011683372780680656])]}"
      ]
     },
     "execution_count": 4,
     "metadata": {},
     "output_type": "execute_result"
    }
   ],
   "source": [
    "result"
   ]
  },
  {
   "cell_type": "markdown",
   "metadata": {},
   "source": [
    "#### Step 2: Calculate ΔSePer\n",
    "Aggregate semantic-equivalent answers and compute belief shift on gt answer."
   ]
  },
  {
   "cell_type": "code",
   "execution_count": 5,
   "metadata": {},
   "outputs": [],
   "source": [
    "keys = ['question', 'response_text', 'answers', 'likelihood', 'context_label', 'log_liks_agg', 'context']\n",
    "seper_collate_fn = create_collate_fn(keys)\n",
    "\n",
    "# calculate seper\n",
    "with torch.no_grad():\n",
    "    # Convert for SEPER\n",
    "    r = process_item_for_seper(result)\n",
    "    rb = process_item_for_seper(result_baseline)\n",
    "    seper_input = seper_collate_fn([r, rb])\n",
    "    seper, seper_baseline = calculate_uncertainty_soft_batch(\n",
    "        seper_input, entailment_model, computation_chunk_size\n",
    "    )\n",
    "    d_seper = seper - seper_baseline"
   ]
  },
  {
   "cell_type": "markdown",
   "metadata": {},
   "source": [
    "### Extented Results: Fine-grained Retrieval Utility Evaluation"
   ]
  },
  {
   "cell_type": "code",
   "execution_count": 6,
   "metadata": {},
   "outputs": [],
   "source": [
    "example_baseline={\n",
    "    'question': 'Is Elon Musk older than Sam Altman?',\n",
    "    'context': '',\n",
    "    'answers': ['Yes'], # this is the provided ground-truth answers\n",
    "}\n",
    "\n",
    "example_piece1 = example_baseline.copy()\n",
    "example_piece1['context'] = 'Elon Musk was born on June 28, 1971.'\n",
    "example_piece2 = example_baseline.copy()\n",
    "example_piece2['context'] = 'Sam Altman was born on April 22, 1985.'\n",
    "\n",
    "result_piece1 = gen_answers_batch(example_piece1, generator, temperature, num_generations, sub_batch_size, max_new_tokens, prompt_type, device, max_context_words)\n",
    "result_piece2 = gen_answers_batch(example_piece2, generator, temperature, num_generations, sub_batch_size, max_new_tokens, prompt_type, device, max_context_words)\n"
   ]
  },
  {
   "cell_type": "code",
   "execution_count": null,
   "metadata": {},
   "outputs": [
    {
     "name": "stdout",
     "output_type": "stream",
     "text": [
      "(Baseline)SePer without retrieved information: 0.4393003277431539\n",
      " SePer with two pieces of information: 0.9610638042002522, ΔSePer: 0.5217634764570982\n",
      " SePer with one piece of information: 0.6926190671233344, ΔSePer: 0.2533187393801805\n",
      " SePer with another piece of information: 0.5894756588579478, ΔSePer: 0.15017533111479392\n"
     ]
    }
   ],
   "source": [
    "# calculate seper\n",
    "with torch.no_grad():\n",
    "    # Convert for SEPER\n",
    "    r_1 = process_item_for_seper(result_piece1)\n",
    "    r_2 = process_item_for_seper(result_piece2)\n",
    "    seper_input = seper_collate_fn([r_1, r_2])\n",
    "    seper_piece1, seper_piece2 = calculate_uncertainty_soft_batch(\n",
    "        seper_input, entailment_model, computation_chunk_size\n",
    "    )\n",
    "    d_seper_piece1 = seper_piece1 - seper_baseline\n",
    "    d_seper_piece2 = seper_piece2 - seper_baseline\n",
    "\n",
    "print(\n",
    "    f'(Baseline) SePer without retrieved information: {seper_baseline}\\n', \n",
    "    f'SePer with two pieces of information: {seper}, ΔSePer: {d_seper}\\n', \n",
    "    f'SePer with one piece of information: {seper_piece1}, ΔSePer: {d_seper_piece1}\\n', \n",
    "    f'SePer with another piece of information: {seper_piece2}, ΔSePer: {d_seper_piece2}')"
   ]
  },
  {
   "cell_type": "code",
   "execution_count": null,
   "metadata": {},
   "outputs": [],
   "source": []
  }
 ],
 "metadata": {
  "kernelspec": {
   "display_name": "ambigqa",
   "language": "python",
   "name": "python3"
  },
  "language_info": {
   "codemirror_mode": {
    "name": "ipython",
    "version": 3
   },
   "file_extension": ".py",
   "mimetype": "text/x-python",
   "name": "python",
   "nbconvert_exporter": "python",
   "pygments_lexer": "ipython3",
   "version": "3.9.18"
  }
 },
 "nbformat": 4,
 "nbformat_minor": 2
}
